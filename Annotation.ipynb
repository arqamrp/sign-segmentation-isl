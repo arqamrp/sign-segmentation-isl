{
 "cells": [
  {
   "cell_type": "code",
   "execution_count": 49,
   "id": "eb453529-87c4-4fe2-b345-8bda03160c37",
   "metadata": {
    "tags": []
   },
   "outputs": [],
   "source": [
    "import pandas as pd\n",
    "import math"
   ]
  },
  {
   "cell_type": "code",
   "execution_count": 2,
   "id": "4bc7290a-7df2-4958-b354-69acaab1a210",
   "metadata": {
    "tags": []
   },
   "outputs": [],
   "source": [
    "df = pd.read_csv('Annotated_Test_Set/0_1_I_am_fine.csv')"
   ]
  },
  {
   "cell_type": "code",
   "execution_count": 19,
   "id": "66577a4d-dd7f-452d-89e3-6b79274651f2",
   "metadata": {
    "tags": []
   },
   "outputs": [],
   "source": [
    "annotation=df.iloc[1:,2:]\n",
    "annotation = annotation.reset_index()  # make sure indexes pair with number of rows"
   ]
  },
  {
   "cell_type": "code",
   "execution_count": 34,
   "id": "3cbb0a3f-5d07-4ed7-98ef-54a1a492709c",
   "metadata": {
    "tags": []
   },
   "outputs": [],
   "source": [
    "annotList = []\n",
    "for index, row in annotation.iterrows():\n",
    "    label,start,stop=row[3][13], row[4], row[5]\n",
    "    annotList.append({\"label\":label, \"start\":start, \"stop\":stop})"
   ]
  },
  {
   "cell_type": "code",
   "execution_count": 79,
   "id": "cbdf21fe-f8da-4c28-b9af-49a990e6058c",
   "metadata": {
    "tags": []
   },
   "outputs": [],
   "source": [
    "frameList=[0 for i in range(int(annotList[-1][\"stop\"]))]\n",
    "firstFrame = int(annotList[0][\"start\"])\n",
    "lastFrame = int(annotList[-1][\"stop\"])"
   ]
  },
  {
   "cell_type": "code",
   "execution_count": 86,
   "id": "57fbdd78-1b21-4671-bc11-685a226b9469",
   "metadata": {
    "tags": []
   },
   "outputs": [],
   "source": []
  },
  {
   "cell_type": "code",
   "execution_count": 87,
   "id": "6535f9db-0b63-4774-842b-eead7ae5ac6d",
   "metadata": {
    "tags": []
   },
   "outputs": [
    {
     "data": {
      "text/plain": [
       "(0, 132)"
      ]
     },
     "execution_count": 87,
     "metadata": {},
     "output_type": "execute_result"
    }
   ],
   "source": [
    "firstFrame, lastFrame"
   ]
  },
  {
   "cell_type": "code",
   "execution_count": 88,
   "id": "08411c5d-5639-4c26-b87b-721fd5429181",
   "metadata": {},
   "outputs": [
    {
     "name": "stdout",
     "output_type": "stream",
     "text": [
      "{'label': '1', 'start': 0.0, 'stop': 20.225}\n",
      "{'label': '0', 'start': 20.225, 'stop': 33.5}\n",
      "{'label': '1', 'start': 33.5, 'stop': 41.3}\n",
      "{'label': '0', 'start': 41.3, 'stop': 63.175}\n",
      "{'label': '1', 'start': 63.175, 'stop': 72.55}\n",
      "{'label': '0', 'start': 72.55, 'stop': 89.825}\n",
      "{'label': '1', 'start': 89.825, 'stop': 95.225}\n",
      "{'label': '0', 'start': 95.225, 'stop': 117.1}\n",
      "{'label': '1', 'start': 117.1, 'stop': 132.0}\n"
     ]
    }
   ],
   "source": [
    "frameList = {}\n",
    "for annotDict in annotList:\n",
    "    print(annotDict)\n",
    "    start = int(annotDict[\"start\"])\n",
    "    stop = int(annotDict[\"stop\"])\n",
    "    start = math.floor(start)\n",
    "    stop = math.floor(stop)\n",
    "    \n",
    "    if(start == firstFrame):\n",
    "        start+=1\n",
    "    if(stop == lastFrame):\n",
    "        stop+=1\n",
    "    \n",
    "    for i in range(start, stop):\n",
    "        frameList[i] = annotDict[\"label\"]\n"
   ]
  },
  {
   "cell_type": "code",
   "execution_count": 125,
   "id": "0851430e-b138-44c2-9fed-48a08a2d983e",
   "metadata": {
    "tags": []
   },
   "outputs": [
    {
     "data": {
      "text/plain": [
       "'1'"
      ]
     },
     "execution_count": 125,
     "metadata": {},
     "output_type": "execute_result"
    }
   ],
   "source": [
    "frameList[117]"
   ]
  },
  {
   "cell_type": "code",
   "execution_count": null,
   "id": "b11d2009-0e8f-44b3-b1ec-a13ab4290ff0",
   "metadata": {},
   "outputs": [],
   "source": []
  }
 ],
 "metadata": {
  "kernelspec": {
   "display_name": "Python 3 (ipykernel)",
   "language": "python",
   "name": "python3"
  },
  "language_info": {
   "codemirror_mode": {
    "name": "ipython",
    "version": 3
   },
   "file_extension": ".py",
   "mimetype": "text/x-python",
   "name": "python",
   "nbconvert_exporter": "python",
   "pygments_lexer": "ipython3",
   "version": "3.10.6"
  }
 },
 "nbformat": 4,
 "nbformat_minor": 5
}
