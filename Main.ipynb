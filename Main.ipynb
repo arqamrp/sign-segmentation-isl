{
 "cells": [
  {
   "cell_type": "markdown",
   "id": "20c0ac01-e88a-47a0-a836-42ae4f8acbec",
   "metadata": {
    "tags": []
   },
   "source": [
    "# Prelims"
   ]
  },
  {
   "cell_type": "code",
   "execution_count": 2,
   "id": "089439e4-ff7f-48e2-8dbb-4965422f4937",
   "metadata": {
    "tags": []
   },
   "outputs": [
    {
     "name": "stderr",
     "output_type": "stream",
     "text": [
      "2023-04-17 12:56:12.917460: I tensorflow/tsl/cuda/cudart_stub.cc:28] Could not find cuda drivers on your machine, GPU will not be used.\n",
      "2023-04-17 12:56:14.893604: I tensorflow/tsl/cuda/cudart_stub.cc:28] Could not find cuda drivers on your machine, GPU will not be used.\n",
      "2023-04-17 12:56:14.899574: I tensorflow/core/platform/cpu_feature_guard.cc:182] This TensorFlow binary is optimized to use available CPU instructions in performance-critical operations.\n",
      "To enable the following instructions: AVX2 FMA, in other operations, rebuild TensorFlow with the appropriate compiler flags.\n",
      "2023-04-17 12:56:19.997033: W tensorflow/compiler/tf2tensorrt/utils/py_utils.cc:38] TF-TRT Warning: Could not find TensorRT\n"
     ]
    }
   ],
   "source": [
    "%run pipInstall.ipynb\n",
    "%run importLib.ipynb\n",
    "%run getFrame.ipynb"
   ]
  },
  {
   "cell_type": "code",
   "execution_count": 3,
   "id": "0424f58c-4ff1-4cc8-8c6b-ddf99cd43ba1",
   "metadata": {
    "tags": []
   },
   "outputs": [],
   "source": [
    "import cv2"
   ]
  },
  {
   "cell_type": "code",
   "execution_count": 4,
   "id": "bcaf4d4f-232f-4af0-ac7f-21f9b2aa1dbc",
   "metadata": {
    "tags": []
   },
   "outputs": [],
   "source": [
    "def get_gt(videoPath):\n",
    "    vidcap = cv2.VideoCapture(videoPath)\n",
    "    fps = vidcap.get(cv2.CAP_PROP_FPS)\n",
    "    \n",
    "    rgb_orig = load_rgb_video(video_path=videoPath,fps=fps)\n",
    "    rgb_input = prepare_input(rgb_orig)\n",
    "    rgb_slides, t_mid, clip_len= sliding_windows(rgb=rgb_input)\n",
    "    num_clips = rgb_slides.shape[0]\n",
    "    return rgb_slides, t_mid, num_clips"
   ]
  },
  {
   "cell_type": "code",
   "execution_count": 5,
   "id": "4999916e-3631-4b42-8472-932b219c891d",
   "metadata": {
    "tags": []
   },
   "outputs": [],
   "source": [
    "def to_gif(images, filename='./animation.gif'):\n",
    "    converted_images = np.clip(images * 255, 0, 255).astype(np.uint8)\n",
    "    imageio.mimsave(filename, converted_images, fps=25)\n",
    "    return embed.embed_file(filename)"
   ]
  },
  {
   "cell_type": "code",
   "execution_count": 6,
   "id": "e1caeb87-1e45-4f5f-a58b-3b5f44da7c1d",
   "metadata": {
    "tags": []
   },
   "outputs": [],
   "source": [
    "def create_GIF(videoPath, rgb_slides):\n",
    "    !mkdir Output\n",
    "    filename = videoPath[:-4]\n",
    "    for i in range(len(rgb_slides)):\n",
    "        video = tf.transpose(rgb_slides[i], [1,2,3,0,])\n",
    "        clip = to_gif(video, \"./Output/\"+filename+\"_\"+str(i)+\".gif\")"
   ]
  },
  {
   "cell_type": "code",
   "execution_count": 7,
   "id": "9cf12083-ac2f-417b-97ed-65abaf077861",
   "metadata": {
    "tags": []
   },
   "outputs": [],
   "source": [
    "videoPath = 'Annotated_Test_Set/finethank.mp4'"
   ]
  },
  {
   "cell_type": "code",
   "execution_count": 8,
   "id": "92d0de8a-181e-49c0-b3f9-186983690a9c",
   "metadata": {
    "tags": []
   },
   "outputs": [
    {
     "name": "stdout",
     "output_type": "stream",
     "text": [
      "Loaded video Annotated_Test_Set/finethank.mp4 with 132 frames [1080hx1920w] res. at 25.0\n",
      "117 clips resulted from sliding window processing.\n"
     ]
    }
   ],
   "source": [
    "rgb_slides, t_mid, num_clips=get_gt(videoPath)"
   ]
  },
  {
   "cell_type": "code",
   "execution_count": null,
   "id": "0e8ed4f0-7965-467c-b815-cbc32f91ea0c",
   "metadata": {
    "tags": []
   },
   "outputs": [],
   "source": []
  },
  {
   "cell_type": "markdown",
   "id": "516f51f9-c187-4100-83e5-1f610b6924a9",
   "metadata": {},
   "source": [
    "# Reading csv file"
   ]
  },
  {
   "cell_type": "code",
   "execution_count": 9,
   "id": "f9cb5c9c-2f99-4e11-83df-f9de0c665a94",
   "metadata": {
    "tags": []
   },
   "outputs": [],
   "source": [
    "import pandas as pd\n",
    "import math"
   ]
  },
  {
   "cell_type": "code",
   "execution_count": 10,
   "id": "e9b100a4-dcbf-427b-9d9f-aeaa55d6995b",
   "metadata": {
    "tags": []
   },
   "outputs": [],
   "source": [
    "df = pd.read_csv('Annotated_Test_Set/0_1_I_am_fine.csv')"
   ]
  },
  {
   "cell_type": "code",
   "execution_count": 11,
   "id": "8fd43086-6e3d-43b7-af6e-2b59828258f4",
   "metadata": {
    "tags": []
   },
   "outputs": [],
   "source": [
    "annotation=df.iloc[1:,2:]\n",
    "annotation = annotation.reset_index()  # make sure indexes pair with number of rows"
   ]
  },
  {
   "cell_type": "code",
   "execution_count": 12,
   "id": "b2df5d58-c68a-4c57-8ea0-dcc19a60fcf2",
   "metadata": {
    "tags": []
   },
   "outputs": [],
   "source": [
    "annotList = []\n",
    "for index, row in annotation.iterrows():\n",
    "    label,start,stop=row[3][13], row[4], row[5]\n",
    "    annotList.append({\"label\":label, \"start\":start, \"stop\":stop})"
   ]
  },
  {
   "cell_type": "code",
   "execution_count": 13,
   "id": "ac857436-ee60-498f-be53-d95544b9643b",
   "metadata": {
    "tags": []
   },
   "outputs": [],
   "source": [
    "frameList=[0 for i in range(int(annotList[-1][\"stop\"]))]\n",
    "firstFrame = int(annotList[0][\"start\"])\n",
    "lastFrame = int(annotList[-1][\"stop\"])"
   ]
  },
  {
   "cell_type": "code",
   "execution_count": 16,
   "id": "b635ffd6-b8ed-4b29-aeea-6cc0a29b035e",
   "metadata": {},
   "outputs": [
    {
     "name": "stdout",
     "output_type": "stream",
     "text": [
      "{'label': '1', 'start': 0.0, 'stop': 20.225}\n",
      "{'label': '0', 'start': 20.225, 'stop': 33.5}\n",
      "{'label': '1', 'start': 33.5, 'stop': 41.3}\n",
      "{'label': '0', 'start': 41.3, 'stop': 63.175}\n",
      "{'label': '1', 'start': 63.175, 'stop': 72.55}\n",
      "{'label': '0', 'start': 72.55, 'stop': 89.825}\n",
      "{'label': '1', 'start': 89.825, 'stop': 95.225}\n",
      "{'label': '0', 'start': 95.225, 'stop': 117.1}\n",
      "{'label': '1', 'start': 117.1, 'stop': 132.0}\n"
     ]
    }
   ],
   "source": [
    "frameList = {}\n",
    "for annotDict in annotList:\n",
    "    print(annotDict)\n",
    "    start = int(annotDict[\"start\"])\n",
    "    stop = int(annotDict[\"stop\"])\n",
    "    start = math.floor(start)\n",
    "    stop = math.floor(stop)\n",
    "    \n",
    "    if(start == firstFrame):\n",
    "        start+=1\n",
    "    if(stop == lastFrame):\n",
    "        stop+=1\n",
    "    \n",
    "    for i in range(start, stop):\n",
    "        frameList[i] = int(annotDict[\"label\"])\n"
   ]
  },
  {
   "cell_type": "code",
   "execution_count": 17,
   "id": "385d1146-59e9-4ffb-b34c-8460f6d84066",
   "metadata": {
    "tags": []
   },
   "outputs": [
    {
     "data": {
      "text/plain": [
       "117"
      ]
     },
     "execution_count": 17,
     "metadata": {},
     "output_type": "execute_result"
    }
   ],
   "source": [
    "groundTruth = [frameList[int(i)] for i in t_mid]\n",
    "len(groundTruth)"
   ]
  },
  {
   "cell_type": "code",
   "execution_count": 18,
   "id": "56e3b211-2226-4e89-a79e-393da3722924",
   "metadata": {},
   "outputs": [],
   "source": [
    "#groundTruth"
   ]
  },
  {
   "cell_type": "code",
   "execution_count": 19,
   "id": "54c790a5-baba-47af-85a3-1ceec6abbfa4",
   "metadata": {
    "tags": []
   },
   "outputs": [
    {
     "data": {
      "text/plain": [
       "'\\n.04 sec = 1 unit\\n1 msec = z\\n40 msec = 1 unit\\nz = 1/40 = 0.025 units\\n1 msec = 0.025 units\\n1 sec = 25 units\\nx:y sec = 25x: 25 y\\n'"
      ]
     },
     "execution_count": 19,
     "metadata": {},
     "output_type": "execute_result"
    }
   ],
   "source": [
    "'''\n",
    ".04 sec = 1 unit\n",
    "1 msec = z\n",
    "40 msec = 1 unit\n",
    "z = 1/40 = 0.025 units\n",
    "1 msec = 0.025 units\n",
    "1 sec = 25 units\n",
    "x:y sec = 25x: 25 y\n",
    "'''\n",
    "\n",
    "\n",
    "\n"
   ]
  },
  {
   "cell_type": "code",
   "execution_count": 20,
   "id": "d73a2482-93c5-4f2e-8c81-00bf98e80703",
   "metadata": {},
   "outputs": [],
   "source": [
    "import pickle\n",
    "pred = pickle.load(open(\"Annotated_Test_Set/predictions.pkl\", \"rb\"))"
   ]
  },
  {
   "cell_type": "code",
   "execution_count": 21,
   "id": "968ddc13-3e85-4ae4-940a-4490306328b2",
   "metadata": {},
   "outputs": [
    {
     "name": "stdout",
     "output_type": "stream",
     "text": [
      "[0, 0, 0, 0, 1, 1, 0, 0, 0, 0, 0, 0, 0, 0, 0, 0, 0, 0, 0, 0, 0, 0, 0, 1, 1, 1, 0, 0, 0, 0, 0, 0, 0, 0, 0, 0, 0, 0, 1, 0, 0, 0, 0, 0, 0, 0, 0, 0, 0, 0, 0, 0, 0, 0, 0, 0, 0, 0, 0, 0, 1, 1, 1, 0, 0, 0, 0, 0, 0, 0, 0, 0, 0, 0, 0, 0, 0, 0, 0, 0, 1, 1, 1, 1, 1, 0, 0, 0, 0, 0, 0, 0, 1, 1, 1, 0, 0, 0, 0, 0, 0, 0, 0, 0, 0, 1, 1, 1, 1, 1, 1, 1, 1, 1, 1, 1, 1]\n"
     ]
    }
   ],
   "source": [
    "print(pred)"
   ]
  },
  {
   "cell_type": "code",
   "execution_count": 22,
   "id": "2de83d5e-d938-4db1-935b-fb85d7f9432e",
   "metadata": {
    "tags": []
   },
   "outputs": [
    {
     "data": {
      "text/plain": [
       "117"
      ]
     },
     "execution_count": 22,
     "metadata": {},
     "output_type": "execute_result"
    }
   ],
   "source": [
    "len(pred)"
   ]
  },
  {
   "cell_type": "code",
   "execution_count": null,
   "id": "656c5a37-2e2c-4ab9-8067-0213eb102f10",
   "metadata": {},
   "outputs": [],
   "source": []
  },
  {
   "cell_type": "code",
   "execution_count": 24,
   "id": "6fbece81-13bd-4a09-807b-28fc4a795ebe",
   "metadata": {
    "tags": []
   },
   "outputs": [],
   "source": [
    "from eval import Metric "
   ]
  },
  {
   "cell_type": "code",
   "execution_count": 25,
   "id": "c85e9d33-78cf-4db3-a081-a6d4e52dcdae",
   "metadata": {
    "tags": []
   },
   "outputs": [],
   "source": [
    "metric = Metric('train')"
   ]
  },
  {
   "cell_type": "code",
   "execution_count": 26,
   "id": "5367bbbe-9ff4-41f3-a811-f62a49b21b55",
   "metadata": {
    "tags": []
   },
   "outputs": [],
   "source": [
    "metric.calc_scores_per_batch(torch.Tensor([pred]), torch.Tensor([groundTruth]), torch.Tensor([groundTruth]))"
   ]
  },
  {
   "cell_type": "code",
   "execution_count": 27,
   "id": "c6851bb5-760d-4ffb-89bc-ea9d9d51e33f",
   "metadata": {
    "tags": []
   },
   "outputs": [],
   "source": [
    "metric.calc_metrics()"
   ]
  },
  {
   "cell_type": "code",
   "execution_count": 28,
   "id": "82c77487-0e12-49cb-8941-0c2572177f27",
   "metadata": {
    "tags": []
   },
   "outputs": [
    {
     "data": {
      "text/plain": [
       "54.17"
      ]
     },
     "execution_count": 28,
     "metadata": {},
     "output_type": "execute_result"
    }
   ],
   "source": [
    "metric.mean_f1b"
   ]
  },
  {
   "cell_type": "code",
   "execution_count": null,
   "id": "11f06d98-ba42-4e21-879f-ace5fc7ec9d1",
   "metadata": {},
   "outputs": [],
   "source": []
  }
 ],
 "metadata": {
  "kernelspec": {
   "display_name": "Python 3 (ipykernel)",
   "language": "python",
   "name": "python3"
  },
  "language_info": {
   "codemirror_mode": {
    "name": "ipython",
    "version": 3
   },
   "file_extension": ".py",
   "mimetype": "text/x-python",
   "name": "python",
   "nbconvert_exporter": "python",
   "pygments_lexer": "ipython3",
   "version": "3.10.6"
  }
 },
 "nbformat": 4,
 "nbformat_minor": 5
}
