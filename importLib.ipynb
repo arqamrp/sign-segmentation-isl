{
 "cells": [
  {
   "cell_type": "code",
   "execution_count": null,
   "id": "ef67fd79-075b-4db3-b075-0a0ce2b2ea23",
   "metadata": {},
   "outputs": [],
   "source": [
    "import tqdm\n",
    "from tqdm import tqdm\n",
    "import random\n",
    "import pathlib\n",
    "from pathlib import Path\n",
    "import itertools\n",
    "import collections\n",
    "\n",
    "import os\n",
    "import cv2\n",
    "import numpy as np\n",
    "\n",
    "import tensorflow as tf\n",
    "\n",
    "import imageio\n",
    "from IPython import display\n",
    "from urllib import request\n",
    "from tensorflow_docs.vis import embed\n",
    "\n",
    "import torch\n",
    "import torch.nn as nn\n",
    "import torchvision\n",
    "import torchvision.transforms as T\n",
    "from PIL import Image\n",
    "\n",
    "import sys\n",
    "import math\n",
    "import pickle as pkl\n",
    "import shutil\n",
    "import argparse\n",
    "\n",
    "import scipy.special\n",
    "import matplotlib.pyplot as plt\n",
    "from beartype import beartype\n",
    "from scipy.io import loadmat\n",
    "from zsvision.zs_utils import BlockTimer\n",
    "from utils_demo import torch_to_list, to_torch, im_to_numpy, im_to_torch, resize_generic, color_normalize, save_pred, generate_vtt_file\n",
    "from viz_demo import video_results"
   ]
  }
 ],
 "metadata": {
  "kernelspec": {
   "display_name": "Python 3 (ipykernel)",
   "language": "python",
   "name": "python3"
  },
  "language_info": {
   "codemirror_mode": {
    "name": "ipython",
    "version": 3
   },
   "file_extension": ".py",
   "mimetype": "text/x-python",
   "name": "python",
   "nbconvert_exporter": "python",
   "pygments_lexer": "ipython3",
   "version": "3.10.6"
  }
 },
 "nbformat": 4,
 "nbformat_minor": 5
}
