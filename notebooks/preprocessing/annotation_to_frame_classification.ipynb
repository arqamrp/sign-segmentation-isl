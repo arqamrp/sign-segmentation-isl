{
 "cells": [
  {
   "cell_type": "code",
   "execution_count": 107,
   "id": "3ee0e688",
   "metadata": {
    "tags": []
   },
   "outputs": [],
   "source": [
    "import pandas as pd\n",
    "import math\n",
    "import pickle"
   ]
  },
  {
   "cell_type": "code",
   "execution_count": 108,
   "id": "8a7cc5e0",
   "metadata": {
    "tags": []
   },
   "outputs": [],
   "source": [
    "df = pd.read_csv( \"/kaggle/input/annots/VIA_annotations.csv\", header =1)"
   ]
  },
  {
   "cell_type": "code",
   "execution_count": 109,
   "id": "e323bfd3",
   "metadata": {
    "tags": []
   },
   "outputs": [
    {
     "data": {
      "text/html": [
       "<div>\n",
       "<style scoped>\n",
       "    .dataframe tbody tr th:only-of-type {\n",
       "        vertical-align: middle;\n",
       "    }\n",
       "\n",
       "    .dataframe tbody tr th {\n",
       "        vertical-align: top;\n",
       "    }\n",
       "\n",
       "    .dataframe thead th {\n",
       "        text-align: right;\n",
       "    }\n",
       "</style>\n",
       "<table border=\"1\" class=\"dataframe\">\n",
       "  <thead>\n",
       "    <tr style=\"text-align: right;\">\n",
       "      <th></th>\n",
       "      <th># CSV_HEADER = metadata_id</th>\n",
       "      <th>file_list</th>\n",
       "      <th>temporal_segment_start</th>\n",
       "      <th>temporal_segment_end</th>\n",
       "      <th>metadata</th>\n",
       "    </tr>\n",
       "  </thead>\n",
       "  <tbody>\n",
       "    <tr>\n",
       "      <th>0</th>\n",
       "      <td>1_c3ruk3yo</td>\n",
       "      <td>[\"free.MP4\"]</td>\n",
       "      <td>1.008</td>\n",
       "      <td>1.707</td>\n",
       "      <td>{\"subtitle\":\"\"}</td>\n",
       "    </tr>\n",
       "    <tr>\n",
       "      <th>1</th>\n",
       "      <td>1_JshBo2aX</td>\n",
       "      <td>[\"free.MP4\"]</td>\n",
       "      <td>1.707</td>\n",
       "      <td>2.660</td>\n",
       "      <td>{\"subtitle\":\"\"}</td>\n",
       "    </tr>\n",
       "    <tr>\n",
       "      <th>2</th>\n",
       "      <td>1_tTqXX2us</td>\n",
       "      <td>[\"free.MP4\"]</td>\n",
       "      <td>2.660</td>\n",
       "      <td>3.800</td>\n",
       "      <td>{\"subtitle\":\"\"}</td>\n",
       "    </tr>\n",
       "    <tr>\n",
       "      <th>3</th>\n",
       "      <td>2_uXIq8HXz</td>\n",
       "      <td>[\"free (2).MP4\"]</td>\n",
       "      <td>0.514</td>\n",
       "      <td>1.082</td>\n",
       "      <td>{\"subtitle\":\"\"}</td>\n",
       "    </tr>\n",
       "    <tr>\n",
       "      <th>4</th>\n",
       "      <td>2_eXqfdxsH</td>\n",
       "      <td>[\"free (2).MP4\"]</td>\n",
       "      <td>1.082</td>\n",
       "      <td>2.113</td>\n",
       "      <td>{\"subtitle\":\"\"}</td>\n",
       "    </tr>\n",
       "  </tbody>\n",
       "</table>\n",
       "</div>"
      ],
      "text/plain": [
       "  # CSV_HEADER = metadata_id         file_list  temporal_segment_start  \\\n",
       "0                 1_c3ruk3yo      [\"free.MP4\"]                   1.008   \n",
       "1                 1_JshBo2aX      [\"free.MP4\"]                   1.707   \n",
       "2                 1_tTqXX2us      [\"free.MP4\"]                   2.660   \n",
       "3                 2_uXIq8HXz  [\"free (2).MP4\"]                   0.514   \n",
       "4                 2_eXqfdxsH  [\"free (2).MP4\"]                   1.082   \n",
       "\n",
       "   temporal_segment_end         metadata  \n",
       "0                 1.707  {\"subtitle\":\"\"}  \n",
       "1                 2.660  {\"subtitle\":\"\"}  \n",
       "2                 3.800  {\"subtitle\":\"\"}  \n",
       "3                 1.082  {\"subtitle\":\"\"}  \n",
       "4                 2.113  {\"subtitle\":\"\"}  "
      ]
     },
     "execution_count": 109,
     "metadata": {},
     "output_type": "execute_result"
    }
   ],
   "source": [
    "df.head()"
   ]
  },
  {
   "cell_type": "code",
   "execution_count": 110,
   "id": "3352e2ca",
   "metadata": {
    "tags": []
   },
   "outputs": [
    {
     "data": {
      "text/plain": [
       "'free.MP4'"
      ]
     },
     "execution_count": 110,
     "metadata": {},
     "output_type": "execute_result"
    }
   ],
   "source": [
    "def trunc(stri):\n",
    "    strn = stri[2:-2]\n",
    "    return(strn)\n",
    "    \n",
    "trunc(\"[\\\"free.MP4\\\"]\")"
   ]
  },
  {
   "cell_type": "code",
   "execution_count": 111,
   "id": "d86e52a6",
   "metadata": {
    "tags": []
   },
   "outputs": [],
   "source": [
    "modified_column = df['file_list'].apply(trunc)\n",
    "df[\"file_list\"] = modified_column"
   ]
  },
  {
   "cell_type": "code",
   "execution_count": 112,
   "id": "36446d4d",
   "metadata": {
    "tags": []
   },
   "outputs": [
    {
     "data": {
      "text/html": [
       "<div>\n",
       "<style scoped>\n",
       "    .dataframe tbody tr th:only-of-type {\n",
       "        vertical-align: middle;\n",
       "    }\n",
       "\n",
       "    .dataframe tbody tr th {\n",
       "        vertical-align: top;\n",
       "    }\n",
       "\n",
       "    .dataframe thead th {\n",
       "        text-align: right;\n",
       "    }\n",
       "</style>\n",
       "<table border=\"1\" class=\"dataframe\">\n",
       "  <thead>\n",
       "    <tr style=\"text-align: right;\">\n",
       "      <th></th>\n",
       "      <th># CSV_HEADER = metadata_id</th>\n",
       "      <th>file_list</th>\n",
       "      <th>temporal_segment_start</th>\n",
       "      <th>temporal_segment_end</th>\n",
       "      <th>metadata</th>\n",
       "    </tr>\n",
       "  </thead>\n",
       "  <tbody>\n",
       "    <tr>\n",
       "      <th>0</th>\n",
       "      <td>1_c3ruk3yo</td>\n",
       "      <td>free.MP4</td>\n",
       "      <td>1.008</td>\n",
       "      <td>1.707</td>\n",
       "      <td>{\"subtitle\":\"\"}</td>\n",
       "    </tr>\n",
       "    <tr>\n",
       "      <th>1</th>\n",
       "      <td>1_JshBo2aX</td>\n",
       "      <td>free.MP4</td>\n",
       "      <td>1.707</td>\n",
       "      <td>2.660</td>\n",
       "      <td>{\"subtitle\":\"\"}</td>\n",
       "    </tr>\n",
       "    <tr>\n",
       "      <th>2</th>\n",
       "      <td>1_tTqXX2us</td>\n",
       "      <td>free.MP4</td>\n",
       "      <td>2.660</td>\n",
       "      <td>3.800</td>\n",
       "      <td>{\"subtitle\":\"\"}</td>\n",
       "    </tr>\n",
       "    <tr>\n",
       "      <th>3</th>\n",
       "      <td>2_uXIq8HXz</td>\n",
       "      <td>free (2).MP4</td>\n",
       "      <td>0.514</td>\n",
       "      <td>1.082</td>\n",
       "      <td>{\"subtitle\":\"\"}</td>\n",
       "    </tr>\n",
       "    <tr>\n",
       "      <th>4</th>\n",
       "      <td>2_eXqfdxsH</td>\n",
       "      <td>free (2).MP4</td>\n",
       "      <td>1.082</td>\n",
       "      <td>2.113</td>\n",
       "      <td>{\"subtitle\":\"\"}</td>\n",
       "    </tr>\n",
       "  </tbody>\n",
       "</table>\n",
       "</div>"
      ],
      "text/plain": [
       "  # CSV_HEADER = metadata_id     file_list  temporal_segment_start  \\\n",
       "0                 1_c3ruk3yo      free.MP4                   1.008   \n",
       "1                 1_JshBo2aX      free.MP4                   1.707   \n",
       "2                 1_tTqXX2us      free.MP4                   2.660   \n",
       "3                 2_uXIq8HXz  free (2).MP4                   0.514   \n",
       "4                 2_eXqfdxsH  free (2).MP4                   1.082   \n",
       "\n",
       "   temporal_segment_end         metadata  \n",
       "0                 1.707  {\"subtitle\":\"\"}  \n",
       "1                 2.660  {\"subtitle\":\"\"}  \n",
       "2                 3.800  {\"subtitle\":\"\"}  \n",
       "3                 1.082  {\"subtitle\":\"\"}  \n",
       "4                 2.113  {\"subtitle\":\"\"}  "
      ]
     },
     "execution_count": 112,
     "metadata": {},
     "output_type": "execute_result"
    }
   ],
   "source": [
    "df.head()"
   ]
  },
  {
   "cell_type": "code",
   "execution_count": 113,
   "id": "5162c361",
   "metadata": {
    "tags": []
   },
   "outputs": [
    {
     "data": {
      "text/html": [
       "<div>\n",
       "<style scoped>\n",
       "    .dataframe tbody tr th:only-of-type {\n",
       "        vertical-align: middle;\n",
       "    }\n",
       "\n",
       "    .dataframe tbody tr th {\n",
       "        vertical-align: top;\n",
       "    }\n",
       "\n",
       "    .dataframe thead th {\n",
       "        text-align: right;\n",
       "    }\n",
       "</style>\n",
       "<table border=\"1\" class=\"dataframe\">\n",
       "  <thead>\n",
       "    <tr style=\"text-align: right;\">\n",
       "      <th></th>\n",
       "      <th>file_list</th>\n",
       "      <th>temporal_segment_start</th>\n",
       "      <th>temporal_segment_end</th>\n",
       "    </tr>\n",
       "  </thead>\n",
       "  <tbody>\n",
       "    <tr>\n",
       "      <th>0</th>\n",
       "      <td>free.MP4</td>\n",
       "      <td>1.707</td>\n",
       "      <td>2.660</td>\n",
       "    </tr>\n",
       "    <tr>\n",
       "      <th>1</th>\n",
       "      <td>free.MP4</td>\n",
       "      <td>2.660</td>\n",
       "      <td>3.800</td>\n",
       "    </tr>\n",
       "    <tr>\n",
       "      <th>2</th>\n",
       "      <td>free (2).MP4</td>\n",
       "      <td>0.514</td>\n",
       "      <td>1.082</td>\n",
       "    </tr>\n",
       "    <tr>\n",
       "      <th>3</th>\n",
       "      <td>free (2).MP4</td>\n",
       "      <td>1.082</td>\n",
       "      <td>2.113</td>\n",
       "    </tr>\n",
       "    <tr>\n",
       "      <th>4</th>\n",
       "      <td>free (2).MP4</td>\n",
       "      <td>2.113</td>\n",
       "      <td>2.847</td>\n",
       "    </tr>\n",
       "  </tbody>\n",
       "</table>\n",
       "</div>"
      ],
      "text/plain": [
       "      file_list  temporal_segment_start  temporal_segment_end\n",
       "0      free.MP4                   1.707                 2.660\n",
       "1      free.MP4                   2.660                 3.800\n",
       "2  free (2).MP4                   0.514                 1.082\n",
       "3  free (2).MP4                   1.082                 2.113\n",
       "4  free (2).MP4                   2.113                 2.847"
      ]
     },
     "execution_count": 113,
     "metadata": {},
     "output_type": "execute_result"
    }
   ],
   "source": [
    "annotation=df.iloc[1:,1:-1]\n",
    "annotation = annotation.reset_index()\n",
    "annotation = annotation.iloc[0:, 1:]\n",
    "\n",
    "annotation.head()"
   ]
  },
  {
   "cell_type": "code",
   "execution_count": 114,
   "id": "a3dd9481",
   "metadata": {
    "tags": []
   },
   "outputs": [],
   "source": [
    "labelDict = {}\n",
    "for index, row in annotation.iterrows():\n",
    "    if row['file_list'] not in labelDict:\n",
    "        labelDict[row['file_list']] = []\n",
    "        \n",
    "    label = 0\n",
    "    start,stop=float(row['temporal_segment_start']), float(row['temporal_segment_end'])\n",
    "    labelDict[row['file_list']].append({\"label\":label, \"start\":start, \"stop\":stop})"
   ]
  },
  {
   "cell_type": "code",
   "execution_count": null,
   "id": "c74ea364-777b-4477-afc8-dbb9252fb984",
   "metadata": {
    "tags": []
   },
   "outputs": [],
   "source": []
  },
  {
   "cell_type": "code",
   "execution_count": 115,
   "id": "0118b7e8",
   "metadata": {
    "tags": []
   },
   "outputs": [],
   "source": [
    "for key in labelDict.keys():\n",
    "    labelDict[key] = sorted(labelDict[key], key=lambda i: i['start']) \n",
    "    for i in range(len(labelDict[key])-1):\n",
    "        label = 1\n",
    "        a,b = labelDict[key][i]['stop'], labelDict[key][i+1]['start']\n",
    "        if (a<b):\n",
    "            start, stop = a, b\n",
    "        else:\n",
    "            start, stop = b, a\n",
    "            labelDict[key][i] = {\"label\":0, 'start':labelDict[key][i]['start'], 'stop':b}\n",
    "            labelDict[key][i+1] = {\"label\":0, 'start':a, 'stop':labelDict[key][i+1]['stop']}\n",
    "\n",
    "        labelDict[key].append({\"label\":label, \"start\":start, \"stop\":stop})\n",
    "    labelDict[key] = sorted(labelDict[key], key=lambda i: i['start']) "
   ]
  },
  {
   "cell_type": "code",
   "execution_count": 116,
   "id": "f19968a2",
   "metadata": {
    "tags": []
   },
   "outputs": [],
   "source": [
    "for key in labelDict.keys():\n",
    "    for i in range(len(labelDict[key])):\n",
    "        labelDict[key][i] = {\"label\":labelDict[key][i]['label'],'start':labelDict[key][i]['start']*25, 'stop':labelDict[key][i]['stop']*25}"
   ]
  },
  {
   "cell_type": "code",
   "execution_count": 117,
   "id": "f5153039",
   "metadata": {
    "tags": []
   },
   "outputs": [],
   "source": [
    "frameDict = {}\n",
    "for key in labelDict.keys():\n",
    "    frameList = {}\n",
    "    firstFrame = int(labelDict[key][0][\"start\"])\n",
    "    lastFrame = int(labelDict[key][-1][\"stop\"])\n",
    "    for annotDict in labelDict[key]:\n",
    "        start = int(annotDict[\"start\"])\n",
    "        stop = int(annotDict[\"stop\"])\n",
    "        start = math.floor(start)\n",
    "        stop = math.floor(stop)\n",
    "\n",
    "        if(start == firstFrame):\n",
    "            start+=1\n",
    "        if(stop == lastFrame):\n",
    "            stop+=1\n",
    "\n",
    "        for i in range(start, stop):\n",
    "            frameList[i] = annotDict[\"label\"]\n",
    "    frameDict[key] = frameList\n",
    "\n",
    "    "
   ]
  },
  {
   "cell_type": "code",
   "execution_count": 118,
   "id": "19d203be",
   "metadata": {
    "tags": []
   },
   "outputs": [],
   "source": [
    "for key in frameDict.keys():\n",
    "    for num in frameDict[key].keys():\n",
    "        if (num != 1) and (num != len(frameDict[key])):\n",
    "            if (frameDict[key][num] == 1) and (frameDict[key][num-1] == 0) and (frameDict[key][num+1] == 0):\n",
    "                frameDict[key][num-1] = 1\n",
    "                frameDict[key][num+1] = 1"
   ]
  },
  {
   "cell_type": "code",
   "execution_count": 119,
   "id": "08314d78",
   "metadata": {
    "tags": []
   },
   "outputs": [
    {
     "data": {
      "text/plain": [
       "176"
      ]
     },
     "execution_count": 119,
     "metadata": {},
     "output_type": "execute_result"
    }
   ],
   "source": [
    "len(frameDict)"
   ]
  },
  {
   "cell_type": "code",
   "execution_count": null,
   "id": "66764018-ba71-4fb6-bd8f-d83630362abf",
   "metadata": {
    "tags": []
   },
   "outputs": [],
   "source": []
  },
  {
   "cell_type": "code",
   "execution_count": 120,
   "id": "870cc1fb-aaf4-43b3-92c7-e8ed53e88b6d",
   "metadata": {
    "tags": []
   },
   "outputs": [],
   "source": [
    "for key in frameDict.keys():\n",
    "    List = [num for num in frameDict[key].keys()]\n",
    "    minFrame = min(List)\n",
    "    frameDict[key][minFrame-1] = 1"
   ]
  },
  {
   "cell_type": "code",
   "execution_count": 49,
   "id": "717d954a",
   "metadata": {
    "tags": []
   },
   "outputs": [
    {
     "ename": "FileNotFoundError",
     "evalue": "[Errno 2] No such file or directory: '/kaggle/working/frameDict.pkl'",
     "output_type": "error",
     "traceback": [
      "\u001b[0;31m---------------------------------------------------------------------------\u001b[0m",
      "\u001b[0;31mFileNotFoundError\u001b[0m                         Traceback (most recent call last)",
      "Cell \u001b[0;32mIn[49], line 1\u001b[0m\n\u001b[0;32m----> 1\u001b[0m \u001b[38;5;28;01mwith\u001b[39;00m \u001b[38;5;28;43mopen\u001b[39;49m\u001b[43m(\u001b[49m\u001b[38;5;124;43m\"\u001b[39;49m\u001b[38;5;124;43m/kaggle/working/frameDict.pkl\u001b[39;49m\u001b[38;5;124;43m\"\u001b[39;49m\u001b[43m,\u001b[49m\u001b[43m \u001b[49m\u001b[38;5;124;43m\"\u001b[39;49m\u001b[38;5;124;43mwb\u001b[39;49m\u001b[38;5;124;43m\"\u001b[39;49m\u001b[43m)\u001b[49m \u001b[38;5;28;01mas\u001b[39;00m f:\n\u001b[1;32m      2\u001b[0m     pickle\u001b[38;5;241m.\u001b[39mdump(frameDict,f)\n",
      "File \u001b[0;32m~/.local/lib/python3.10/site-packages/IPython/core/interactiveshell.py:282\u001b[0m, in \u001b[0;36m_modified_open\u001b[0;34m(file, *args, **kwargs)\u001b[0m\n\u001b[1;32m    275\u001b[0m \u001b[38;5;28;01mif\u001b[39;00m file \u001b[38;5;129;01min\u001b[39;00m {\u001b[38;5;241m0\u001b[39m, \u001b[38;5;241m1\u001b[39m, \u001b[38;5;241m2\u001b[39m}:\n\u001b[1;32m    276\u001b[0m     \u001b[38;5;28;01mraise\u001b[39;00m \u001b[38;5;167;01mValueError\u001b[39;00m(\n\u001b[1;32m    277\u001b[0m         \u001b[38;5;124mf\u001b[39m\u001b[38;5;124m\"\u001b[39m\u001b[38;5;124mIPython won\u001b[39m\u001b[38;5;124m'\u001b[39m\u001b[38;5;124mt let you open fd=\u001b[39m\u001b[38;5;132;01m{\u001b[39;00mfile\u001b[38;5;132;01m}\u001b[39;00m\u001b[38;5;124m by default \u001b[39m\u001b[38;5;124m\"\u001b[39m\n\u001b[1;32m    278\u001b[0m         \u001b[38;5;124m\"\u001b[39m\u001b[38;5;124mas it is likely to crash IPython. If you know what you are doing, \u001b[39m\u001b[38;5;124m\"\u001b[39m\n\u001b[1;32m    279\u001b[0m         \u001b[38;5;124m\"\u001b[39m\u001b[38;5;124myou can use builtins\u001b[39m\u001b[38;5;124m'\u001b[39m\u001b[38;5;124m open.\u001b[39m\u001b[38;5;124m\"\u001b[39m\n\u001b[1;32m    280\u001b[0m     )\n\u001b[0;32m--> 282\u001b[0m \u001b[38;5;28;01mreturn\u001b[39;00m \u001b[43mio_open\u001b[49m\u001b[43m(\u001b[49m\u001b[43mfile\u001b[49m\u001b[43m,\u001b[49m\u001b[43m \u001b[49m\u001b[38;5;241;43m*\u001b[39;49m\u001b[43margs\u001b[49m\u001b[43m,\u001b[49m\u001b[43m \u001b[49m\u001b[38;5;241;43m*\u001b[39;49m\u001b[38;5;241;43m*\u001b[39;49m\u001b[43mkwargs\u001b[49m\u001b[43m)\u001b[49m\n",
      "\u001b[0;31mFileNotFoundError\u001b[0m: [Errno 2] No such file or directory: '/kaggle/working/frameDict.pkl'"
     ]
    }
   ],
   "source": [
    "with open(\"/kaggle/working/frameDict.pkl\", \"wb\") as f:\n",
    "    pickle.dump(frameDict,f)\n",
    "    "
   ]
  },
  {
   "cell_type": "code",
   "execution_count": null,
   "id": "f8909855-0da1-4f33-a1aa-3fe2a271a3f9",
   "metadata": {},
   "outputs": [],
   "source": []
  }
 ],
 "metadata": {
  "kernelspec": {
   "display_name": "Python 3 (ipykernel)",
   "language": "python",
   "name": "python3"
  },
  "language_info": {
   "codemirror_mode": {
    "name": "ipython",
    "version": 3
   },
   "file_extension": ".py",
   "mimetype": "text/x-python",
   "name": "python",
   "nbconvert_exporter": "python",
   "pygments_lexer": "ipython3",
   "version": "3.10.6"
  }
 },
 "nbformat": 4,
 "nbformat_minor": 5
}
